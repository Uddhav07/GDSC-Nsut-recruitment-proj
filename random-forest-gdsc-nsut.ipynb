{
 "cells": [
  {
   "cell_type": "code",
   "execution_count": 1,
   "id": "8e40be27",
   "metadata": {
    "execution": {
     "iopub.execute_input": "2023-02-11T06:38:28.547468Z",
     "iopub.status.busy": "2023-02-11T06:38:28.546793Z",
     "iopub.status.idle": "2023-02-11T06:38:29.234452Z",
     "shell.execute_reply": "2023-02-11T06:38:29.233129Z"
    },
    "papermill": {
     "duration": 0.697297,
     "end_time": "2023-02-11T06:38:29.237720",
     "exception": false,
     "start_time": "2023-02-11T06:38:28.540423",
     "status": "completed"
    },
    "tags": []
   },
   "outputs": [],
   "source": [
    "import pandas as pd\n",
    "\n",
    "dataset_path = '/kaggle/input/gdsc-nsut-recruitment-2023/'\n",
    "tr = pd.read_csv(dataset_path + 'train.csv')\n",
    "te = pd.read_csv(dataset_path + 'test.csv')\n",
    "sample_submission = pd.read_csv(dataset_path + 'sample_submission.csv')\n",
    "\n",
    "y=tr.target\n",
    "x=tr.drop(['target','id'], axis=1)\n",
    "te=te.drop('id',axis=1)"
   ]
  },
  {
   "cell_type": "code",
   "execution_count": 2,
   "id": "1e390d77",
   "metadata": {
    "execution": {
     "iopub.execute_input": "2023-02-11T06:38:29.246396Z",
     "iopub.status.busy": "2023-02-11T06:38:29.245173Z",
     "iopub.status.idle": "2023-02-11T06:38:30.374126Z",
     "shell.execute_reply": "2023-02-11T06:38:30.372996Z"
    },
    "papermill": {
     "duration": 1.135936,
     "end_time": "2023-02-11T06:38:30.376885",
     "exception": false,
     "start_time": "2023-02-11T06:38:29.240949",
     "status": "completed"
    },
    "tags": []
   },
   "outputs": [],
   "source": [
    "from sklearn.model_selection import train_test_split\n",
    "train_x, val_x, train_y, val_y = train_test_split(x, y,random_state=0,test_size=0.2)"
   ]
  },
  {
   "cell_type": "markdown",
   "id": "a09cdb8b",
   "metadata": {
    "papermill": {
     "duration": 0.00259,
     "end_time": "2023-02-11T06:38:30.385711",
     "exception": false,
     "start_time": "2023-02-11T06:38:30.383121",
     "status": "completed"
    },
    "tags": []
   },
   "source": [
    "**Random Forest**"
   ]
  },
  {
   "cell_type": "code",
   "execution_count": 3,
   "id": "42f3add7",
   "metadata": {
    "execution": {
     "iopub.execute_input": "2023-02-11T06:38:30.393227Z",
     "iopub.status.busy": "2023-02-11T06:38:30.392784Z",
     "iopub.status.idle": "2023-02-11T06:38:54.060033Z",
     "shell.execute_reply": "2023-02-11T06:38:54.058757Z"
    },
    "papermill": {
     "duration": 23.675575,
     "end_time": "2023-02-11T06:38:54.064055",
     "exception": false,
     "start_time": "2023-02-11T06:38:30.388480",
     "status": "completed"
    },
    "tags": []
   },
   "outputs": [
    {
     "name": "stdout",
     "output_type": "stream",
     "text": [
      "1.4469956044986407\n"
     ]
    }
   ],
   "source": [
    "from sklearn.ensemble import RandomForestRegressor\n",
    "from sklearn.metrics import mean_absolute_error\n",
    "\n",
    "model = RandomForestRegressor(random_state=0)\n",
    "model.fit(train_x, train_y)\n",
    "pred = model.predict(val_x)\n",
    "print(mean_absolute_error(val_y, pred))"
   ]
  },
  {
   "cell_type": "code",
   "execution_count": 4,
   "id": "7d546eac",
   "metadata": {
    "execution": {
     "iopub.execute_input": "2023-02-11T06:38:54.072638Z",
     "iopub.status.busy": "2023-02-11T06:38:54.072023Z",
     "iopub.status.idle": "2023-02-11T06:38:54.172945Z",
     "shell.execute_reply": "2023-02-11T06:38:54.171990Z"
    },
    "papermill": {
     "duration": 0.107286,
     "end_time": "2023-02-11T06:38:54.175122",
     "exception": false,
     "start_time": "2023-02-11T06:38:54.067836",
     "status": "completed"
    },
    "tags": []
   },
   "outputs": [
    {
     "data": {
      "text/plain": [
       "0.9694354845755673"
      ]
     },
     "execution_count": 4,
     "metadata": {},
     "output_type": "execute_result"
    }
   ],
   "source": [
    "ms=model.score(val_x,val_y)\n",
    "ms"
   ]
  },
  {
   "cell_type": "markdown",
   "id": "5816f447",
   "metadata": {
    "papermill": {
     "duration": 0.002677,
     "end_time": "2023-02-11T06:38:54.180936",
     "exception": false,
     "start_time": "2023-02-11T06:38:54.178259",
     "status": "completed"
    },
    "tags": []
   },
   "source": [
    "## Prediction and submission"
   ]
  },
  {
   "cell_type": "code",
   "execution_count": 5,
   "id": "074fde7b",
   "metadata": {
    "execution": {
     "iopub.execute_input": "2023-02-11T06:38:54.188480Z",
     "iopub.status.busy": "2023-02-11T06:38:54.187887Z",
     "iopub.status.idle": "2023-02-11T06:39:24.977527Z",
     "shell.execute_reply": "2023-02-11T06:39:24.976240Z"
    },
    "papermill": {
     "duration": 30.796658,
     "end_time": "2023-02-11T06:39:24.980418",
     "exception": false,
     "start_time": "2023-02-11T06:38:54.183760",
     "status": "completed"
    },
    "tags": []
   },
   "outputs": [
    {
     "name": "stdout",
     "output_type": "stream",
     "text": [
      "copying to file...\n",
      "done\n"
     ]
    }
   ],
   "source": [
    "# final_pred = forest_model.predict(te)\n",
    "if ms>0.968:\n",
    "    model.fit(x, y)\n",
    "    print('copying to file...')\n",
    "    final_pred=model.predict(te)\n",
    "    sample_submission['target'] = final_pred\n",
    "    sample_submission.to_csv(\"submission.csv\", index = False)\n",
    "    sample_submission.head()\n",
    "    print('done')"
   ]
  },
  {
   "cell_type": "code",
   "execution_count": 6,
   "id": "6f199011",
   "metadata": {
    "execution": {
     "iopub.execute_input": "2023-02-11T06:39:24.988794Z",
     "iopub.status.busy": "2023-02-11T06:39:24.988337Z",
     "iopub.status.idle": "2023-02-11T06:39:24.994740Z",
     "shell.execute_reply": "2023-02-11T06:39:24.993681Z"
    },
    "papermill": {
     "duration": 0.013319,
     "end_time": "2023-02-11T06:39:24.997121",
     "exception": false,
     "start_time": "2023-02-11T06:39:24.983802",
     "status": "completed"
    },
    "tags": []
   },
   "outputs": [],
   "source": [
    "# output = pd.DataFrame({'Id': test_data.Id,\n",
    "#                        'SalePrice': test_preds})\n",
    "# output.to_csv('submission.csv', index=False)"
   ]
  }
 ],
 "metadata": {
  "kernelspec": {
   "display_name": "Python 3",
   "language": "python",
   "name": "python3"
  },
  "language_info": {
   "codemirror_mode": {
    "name": "ipython",
    "version": 3
   },
   "file_extension": ".py",
   "mimetype": "text/x-python",
   "name": "python",
   "nbconvert_exporter": "python",
   "pygments_lexer": "ipython3",
   "version": "3.7.12"
  },
  "papermill": {
   "default_parameters": {},
   "duration": 67.674245,
   "end_time": "2023-02-11T06:39:25.923130",
   "environment_variables": {},
   "exception": null,
   "input_path": "__notebook__.ipynb",
   "output_path": "__notebook__.ipynb",
   "parameters": {},
   "start_time": "2023-02-11T06:38:18.248885",
   "version": "2.3.4"
  }
 },
 "nbformat": 4,
 "nbformat_minor": 5
}
