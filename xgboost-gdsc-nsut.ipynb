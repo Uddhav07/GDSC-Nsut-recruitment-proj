{
 "cells": [
  {
   "cell_type": "code",
   "execution_count": 1,
   "id": "df8214de",
   "metadata": {
    "execution": {
     "iopub.execute_input": "2023-02-11T06:33:46.624456Z",
     "iopub.status.busy": "2023-02-11T06:33:46.623311Z",
     "iopub.status.idle": "2023-02-11T06:33:47.131078Z",
     "shell.execute_reply": "2023-02-11T06:33:47.129896Z"
    },
    "papermill": {
     "duration": 0.518212,
     "end_time": "2023-02-11T06:33:47.134179",
     "exception": false,
     "start_time": "2023-02-11T06:33:46.615967",
     "status": "completed"
    },
    "tags": []
   },
   "outputs": [],
   "source": [
    "import pandas as pd\n",
    "\n",
    "dataset_path = '/kaggle/input/gdsc-nsut-recruitment-2023/'\n",
    "tr = pd.read_csv(dataset_path + 'train.csv')\n",
    "te = pd.read_csv(dataset_path + 'test.csv')\n",
    "sample_submission = pd.read_csv(dataset_path + 'sample_submission.csv')\n",
    "\n",
    "y=tr.target\n",
    "x=tr.drop(['target','id'], axis=1)\n",
    "te=te.drop('id',axis=1)"
   ]
  },
  {
   "cell_type": "code",
   "execution_count": 2,
   "id": "70685a38",
   "metadata": {
    "execution": {
     "iopub.execute_input": "2023-02-11T06:33:47.144091Z",
     "iopub.status.busy": "2023-02-11T06:33:47.141678Z",
     "iopub.status.idle": "2023-02-11T06:33:48.254762Z",
     "shell.execute_reply": "2023-02-11T06:33:48.253403Z"
    },
    "papermill": {
     "duration": 1.120418,
     "end_time": "2023-02-11T06:33:48.257875",
     "exception": false,
     "start_time": "2023-02-11T06:33:47.137457",
     "status": "completed"
    },
    "tags": []
   },
   "outputs": [],
   "source": [
    "from sklearn.model_selection import train_test_split\n",
    "train_x, val_x, train_y, val_y = train_test_split(x, y,random_state=0)"
   ]
  },
  {
   "cell_type": "markdown",
   "id": "719ffff5",
   "metadata": {
    "papermill": {
     "duration": 0.002696,
     "end_time": "2023-02-11T06:33:48.263655",
     "exception": false,
     "start_time": "2023-02-11T06:33:48.260959",
     "status": "completed"
    },
    "tags": []
   },
   "source": [
    "**XGBoost**"
   ]
  },
  {
   "cell_type": "code",
   "execution_count": 3,
   "id": "07138d5c",
   "metadata": {
    "execution": {
     "iopub.execute_input": "2023-02-11T06:33:48.272061Z",
     "iopub.status.busy": "2023-02-11T06:33:48.271004Z",
     "iopub.status.idle": "2023-02-11T06:33:48.393830Z",
     "shell.execute_reply": "2023-02-11T06:33:48.392568Z"
    },
    "papermill": {
     "duration": 0.130311,
     "end_time": "2023-02-11T06:33:48.396944",
     "exception": false,
     "start_time": "2023-02-11T06:33:48.266633",
     "status": "completed"
    },
    "tags": []
   },
   "outputs": [],
   "source": [
    "from xgboost import XGBRegressor\n",
    "import xgboost as xgb\n",
    "\n",
    "# train=xgb.DMatrix(train_x,label=train_y)\n",
    "# test=xgb.DMatrix(val_x,label=val_y)\n",
    "\n",
    "# params={\n",
    "#     'max_depth':4,\n",
    "#     'eta':0.3,\n",
    "#     'objective':'multi:softmax',\n",
    "#     'num_class':5}"
   ]
  },
  {
   "cell_type": "code",
   "execution_count": 4,
   "id": "8479e858",
   "metadata": {
    "execution": {
     "iopub.execute_input": "2023-02-11T06:33:48.405244Z",
     "iopub.status.busy": "2023-02-11T06:33:48.404753Z",
     "iopub.status.idle": "2023-02-11T06:33:52.089908Z",
     "shell.execute_reply": "2023-02-11T06:33:52.088503Z"
    },
    "papermill": {
     "duration": 3.69258,
     "end_time": "2023-02-11T06:33:52.092662",
     "exception": false,
     "start_time": "2023-02-11T06:33:48.400082",
     "status": "completed"
    },
    "tags": []
   },
   "outputs": [
    {
     "data": {
      "text/plain": [
       "XGBRegressor(base_score=0.5, booster='gbtree', callbacks=None,\n",
       "             colsample_bylevel=1, colsample_bynode=1, colsample_bytree=1,\n",
       "             early_stopping_rounds=None, enable_categorical=False,\n",
       "             eval_metric=None, gamma=0, gpu_id=-1, grow_policy='depthwise',\n",
       "             importance_type=None, interaction_constraints='',\n",
       "             learning_rate=0.300000012, max_bin=256, max_cat_to_onehot=4,\n",
       "             max_delta_step=0, max_depth=6, max_leaves=0, min_child_weight=1,\n",
       "             missing=nan, monotone_constraints='()', n_estimators=100, n_jobs=0,\n",
       "             num_parallel_tree=1, predictor='auto', random_state=0, reg_alpha=0,\n",
       "             reg_lambda=1, ...)"
      ]
     },
     "execution_count": 4,
     "metadata": {},
     "output_type": "execute_result"
    }
   ],
   "source": [
    "model = XGBRegressor()\n",
    "model.fit(train_x,train_y)"
   ]
  },
  {
   "cell_type": "code",
   "execution_count": 5,
   "id": "52fe5c98",
   "metadata": {
    "execution": {
     "iopub.execute_input": "2023-02-11T06:33:52.102428Z",
     "iopub.status.busy": "2023-02-11T06:33:52.101498Z",
     "iopub.status.idle": "2023-02-11T06:33:52.119458Z",
     "shell.execute_reply": "2023-02-11T06:33:52.118351Z"
    },
    "papermill": {
     "duration": 0.026713,
     "end_time": "2023-02-11T06:33:52.122881",
     "exception": false,
     "start_time": "2023-02-11T06:33:52.096168",
     "status": "completed"
    },
    "tags": []
   },
   "outputs": [
    {
     "data": {
      "text/plain": [
       "0.9733269295630578"
      ]
     },
     "execution_count": 5,
     "metadata": {},
     "output_type": "execute_result"
    }
   ],
   "source": [
    "ms=model.score(val_x,val_y)\n",
    "ms"
   ]
  },
  {
   "cell_type": "markdown",
   "id": "3d8493c9",
   "metadata": {
    "papermill": {
     "duration": 0.003314,
     "end_time": "2023-02-11T06:33:52.130018",
     "exception": false,
     "start_time": "2023-02-11T06:33:52.126704",
     "status": "completed"
    },
    "tags": []
   },
   "source": [
    "## Prediction and submission"
   ]
  },
  {
   "cell_type": "code",
   "execution_count": 6,
   "id": "2bc4b450",
   "metadata": {
    "execution": {
     "iopub.execute_input": "2023-02-11T06:33:52.137955Z",
     "iopub.status.busy": "2023-02-11T06:33:52.137560Z",
     "iopub.status.idle": "2023-02-11T06:33:56.823025Z",
     "shell.execute_reply": "2023-02-11T06:33:56.821743Z"
    },
    "papermill": {
     "duration": 4.693097,
     "end_time": "2023-02-11T06:33:56.826271",
     "exception": false,
     "start_time": "2023-02-11T06:33:52.133174",
     "status": "completed"
    },
    "tags": []
   },
   "outputs": [
    {
     "name": "stdout",
     "output_type": "stream",
     "text": [
      "copying to file...\n",
      "done\n"
     ]
    }
   ],
   "source": [
    "# final_pred = forest_model.predict(te)\n",
    "\n",
    "if 1:\n",
    "    model.fit(x,y)\n",
    "    print('copying to file...')\n",
    "    final_pred=model.predict(te)\n",
    "    sample_submission['target'] = final_pred\n",
    "    sample_submission.to_csv(\"submission.csv\", index = False)\n",
    "    sample_submission.head()\n",
    "    print('done')"
   ]
  },
  {
   "cell_type": "code",
   "execution_count": null,
   "id": "1ba1b810",
   "metadata": {
    "papermill": {
     "duration": 0.003015,
     "end_time": "2023-02-11T06:33:56.832851",
     "exception": false,
     "start_time": "2023-02-11T06:33:56.829836",
     "status": "completed"
    },
    "tags": []
   },
   "outputs": [],
   "source": []
  }
 ],
 "metadata": {
  "kernelspec": {
   "display_name": "Python 3",
   "language": "python",
   "name": "python3"
  },
  "language_info": {
   "codemirror_mode": {
    "name": "ipython",
    "version": 3
   },
   "file_extension": ".py",
   "mimetype": "text/x-python",
   "name": "python",
   "nbconvert_exporter": "python",
   "pygments_lexer": "ipython3",
   "version": "3.7.12"
  },
  "papermill": {
   "default_parameters": {},
   "duration": 20.107058,
   "end_time": "2023-02-11T06:33:57.661684",
   "environment_variables": {},
   "exception": null,
   "input_path": "__notebook__.ipynb",
   "output_path": "__notebook__.ipynb",
   "parameters": {},
   "start_time": "2023-02-11T06:33:37.554626",
   "version": "2.3.4"
  }
 },
 "nbformat": 4,
 "nbformat_minor": 5
}
